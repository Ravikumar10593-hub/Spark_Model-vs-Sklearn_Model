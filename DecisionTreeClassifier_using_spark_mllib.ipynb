{
  "nbformat": 4,
  "nbformat_minor": 0,
  "metadata": {
    "colab": {
      "provenance": []
    },
    "kernelspec": {
      "name": "python3",
      "display_name": "Python 3"
    },
    "language_info": {
      "name": "python"
    }
  },
  "cells": [
    {
      "cell_type": "markdown",
      "source": [
        "## Setting up Colab"
      ],
      "metadata": {
        "id": "FUjrlT1YmIg2"
      }
    },
    {
      "cell_type": "code",
      "source": [
        "# innstall java\n",
        "!apt-get install openjdk-8-jdk-headless -qq > /dev/null\n",
        "\n",
        "# install spark (change the version number if needed)\n",
        "!wget -q https://archive.apache.org/dist/spark/spark-3.0.0/spark-3.0.0-bin-hadoop3.2.tgz\n",
        "\n",
        "# unzip the spark file to the current folder\n",
        "!tar xf spark-3.0.0-bin-hadoop3.2.tgz\n",
        "\n",
        "# set your spark folder to your system path environment.\n",
        "import os\n",
        "os.environ[\"JAVA_HOME\"] = \"/usr/lib/jvm/java-8-openjdk-amd64\"\n",
        "os.environ[\"SPARK_HOME\"] = \"/content/spark-3.0.0-bin-hadoop3.2\"\n",
        "\n",
        "\n",
        "# install findspark using pip\n",
        "!pip install -q findspark"
      ],
      "metadata": {
        "id": "ldYco2Ez3Vhc"
      },
      "execution_count": 1,
      "outputs": []
    },
    {
      "cell_type": "code",
      "source": [
        "import findspark\n",
        "findspark.init()"
      ],
      "metadata": {
        "id": "--JUQlKACD3k"
      },
      "execution_count": 2,
      "outputs": []
    },
    {
      "cell_type": "code",
      "source": [
        "# Create a PySpark session\n",
        "from collections.abc import MutableMapping\n",
        "from pyspark.sql import SparkSession\n",
        "spark = SparkSession.builder.master(\"local[*]\").getOrCreate()\n",
        "\n",
        "# !wget http://raw-recipes-clean-upgrad.s3.amazonaws.com/RAW_recipes_cleaned.csv\n",
        "\n",
        "# df = spark.read.csv('RAW_recipes_cleaned.csv', inferSchema = True, header = True)\n",
        "# df.show()"
      ],
      "metadata": {
        "id": "ItJ9rJqd8eza"
      },
      "execution_count": 3,
      "outputs": []
    },
    {
      "cell_type": "code",
      "source": [
        "#Upload iris.csv file from local system to remote colab location\n",
        "from google.colab import files\n",
        "files.upload()"
      ],
      "metadata": {
        "id": "fq7pKetg2-S8",
        "colab": {
          "base_uri": "https://localhost:8080/",
          "height": 602
        },
        "outputId": "965ce1b8-a082-4e8f-9d3a-375c6b958823"
      },
      "execution_count": 7,
      "outputs": [
        {
          "output_type": "display_data",
          "data": {
            "text/plain": [
              "<IPython.core.display.HTML object>"
            ],
            "text/html": [
              "\n",
              "     <input type=\"file\" id=\"files-abfe3f6e-3478-4774-b4fb-5ebef68108ad\" name=\"files[]\" multiple disabled\n",
              "        style=\"border:none\" />\n",
              "     <output id=\"result-abfe3f6e-3478-4774-b4fb-5ebef68108ad\">\n",
              "      Upload widget is only available when the cell has been executed in the\n",
              "      current browser session. Please rerun this cell to enable.\n",
              "      </output>\n",
              "      <script>// Copyright 2017 Google LLC\n",
              "//\n",
              "// Licensed under the Apache License, Version 2.0 (the \"License\");\n",
              "// you may not use this file except in compliance with the License.\n",
              "// You may obtain a copy of the License at\n",
              "//\n",
              "//      http://www.apache.org/licenses/LICENSE-2.0\n",
              "//\n",
              "// Unless required by applicable law or agreed to in writing, software\n",
              "// distributed under the License is distributed on an \"AS IS\" BASIS,\n",
              "// WITHOUT WARRANTIES OR CONDITIONS OF ANY KIND, either express or implied.\n",
              "// See the License for the specific language governing permissions and\n",
              "// limitations under the License.\n",
              "\n",
              "/**\n",
              " * @fileoverview Helpers for google.colab Python module.\n",
              " */\n",
              "(function(scope) {\n",
              "function span(text, styleAttributes = {}) {\n",
              "  const element = document.createElement('span');\n",
              "  element.textContent = text;\n",
              "  for (const key of Object.keys(styleAttributes)) {\n",
              "    element.style[key] = styleAttributes[key];\n",
              "  }\n",
              "  return element;\n",
              "}\n",
              "\n",
              "// Max number of bytes which will be uploaded at a time.\n",
              "const MAX_PAYLOAD_SIZE = 100 * 1024;\n",
              "\n",
              "function _uploadFiles(inputId, outputId) {\n",
              "  const steps = uploadFilesStep(inputId, outputId);\n",
              "  const outputElement = document.getElementById(outputId);\n",
              "  // Cache steps on the outputElement to make it available for the next call\n",
              "  // to uploadFilesContinue from Python.\n",
              "  outputElement.steps = steps;\n",
              "\n",
              "  return _uploadFilesContinue(outputId);\n",
              "}\n",
              "\n",
              "// This is roughly an async generator (not supported in the browser yet),\n",
              "// where there are multiple asynchronous steps and the Python side is going\n",
              "// to poll for completion of each step.\n",
              "// This uses a Promise to block the python side on completion of each step,\n",
              "// then passes the result of the previous step as the input to the next step.\n",
              "function _uploadFilesContinue(outputId) {\n",
              "  const outputElement = document.getElementById(outputId);\n",
              "  const steps = outputElement.steps;\n",
              "\n",
              "  const next = steps.next(outputElement.lastPromiseValue);\n",
              "  return Promise.resolve(next.value.promise).then((value) => {\n",
              "    // Cache the last promise value to make it available to the next\n",
              "    // step of the generator.\n",
              "    outputElement.lastPromiseValue = value;\n",
              "    return next.value.response;\n",
              "  });\n",
              "}\n",
              "\n",
              "/**\n",
              " * Generator function which is called between each async step of the upload\n",
              " * process.\n",
              " * @param {string} inputId Element ID of the input file picker element.\n",
              " * @param {string} outputId Element ID of the output display.\n",
              " * @return {!Iterable<!Object>} Iterable of next steps.\n",
              " */\n",
              "function* uploadFilesStep(inputId, outputId) {\n",
              "  const inputElement = document.getElementById(inputId);\n",
              "  inputElement.disabled = false;\n",
              "\n",
              "  const outputElement = document.getElementById(outputId);\n",
              "  outputElement.innerHTML = '';\n",
              "\n",
              "  const pickedPromise = new Promise((resolve) => {\n",
              "    inputElement.addEventListener('change', (e) => {\n",
              "      resolve(e.target.files);\n",
              "    });\n",
              "  });\n",
              "\n",
              "  const cancel = document.createElement('button');\n",
              "  inputElement.parentElement.appendChild(cancel);\n",
              "  cancel.textContent = 'Cancel upload';\n",
              "  const cancelPromise = new Promise((resolve) => {\n",
              "    cancel.onclick = () => {\n",
              "      resolve(null);\n",
              "    };\n",
              "  });\n",
              "\n",
              "  // Wait for the user to pick the files.\n",
              "  const files = yield {\n",
              "    promise: Promise.race([pickedPromise, cancelPromise]),\n",
              "    response: {\n",
              "      action: 'starting',\n",
              "    }\n",
              "  };\n",
              "\n",
              "  cancel.remove();\n",
              "\n",
              "  // Disable the input element since further picks are not allowed.\n",
              "  inputElement.disabled = true;\n",
              "\n",
              "  if (!files) {\n",
              "    return {\n",
              "      response: {\n",
              "        action: 'complete',\n",
              "      }\n",
              "    };\n",
              "  }\n",
              "\n",
              "  for (const file of files) {\n",
              "    const li = document.createElement('li');\n",
              "    li.append(span(file.name, {fontWeight: 'bold'}));\n",
              "    li.append(span(\n",
              "        `(${file.type || 'n/a'}) - ${file.size} bytes, ` +\n",
              "        `last modified: ${\n",
              "            file.lastModifiedDate ? file.lastModifiedDate.toLocaleDateString() :\n",
              "                                    'n/a'} - `));\n",
              "    const percent = span('0% done');\n",
              "    li.appendChild(percent);\n",
              "\n",
              "    outputElement.appendChild(li);\n",
              "\n",
              "    const fileDataPromise = new Promise((resolve) => {\n",
              "      const reader = new FileReader();\n",
              "      reader.onload = (e) => {\n",
              "        resolve(e.target.result);\n",
              "      };\n",
              "      reader.readAsArrayBuffer(file);\n",
              "    });\n",
              "    // Wait for the data to be ready.\n",
              "    let fileData = yield {\n",
              "      promise: fileDataPromise,\n",
              "      response: {\n",
              "        action: 'continue',\n",
              "      }\n",
              "    };\n",
              "\n",
              "    // Use a chunked sending to avoid message size limits. See b/62115660.\n",
              "    let position = 0;\n",
              "    do {\n",
              "      const length = Math.min(fileData.byteLength - position, MAX_PAYLOAD_SIZE);\n",
              "      const chunk = new Uint8Array(fileData, position, length);\n",
              "      position += length;\n",
              "\n",
              "      const base64 = btoa(String.fromCharCode.apply(null, chunk));\n",
              "      yield {\n",
              "        response: {\n",
              "          action: 'append',\n",
              "          file: file.name,\n",
              "          data: base64,\n",
              "        },\n",
              "      };\n",
              "\n",
              "      let percentDone = fileData.byteLength === 0 ?\n",
              "          100 :\n",
              "          Math.round((position / fileData.byteLength) * 100);\n",
              "      percent.textContent = `${percentDone}% done`;\n",
              "\n",
              "    } while (position < fileData.byteLength);\n",
              "  }\n",
              "\n",
              "  // All done.\n",
              "  yield {\n",
              "    response: {\n",
              "      action: 'complete',\n",
              "    }\n",
              "  };\n",
              "}\n",
              "\n",
              "scope.google = scope.google || {};\n",
              "scope.google.colab = scope.google.colab || {};\n",
              "scope.google.colab._files = {\n",
              "  _uploadFiles,\n",
              "  _uploadFilesContinue,\n",
              "};\n",
              "})(self);\n",
              "</script> "
            ]
          },
          "metadata": {}
        },
        {
          "output_type": "stream",
          "name": "stdout",
          "text": [
            "Saving Iris.csv to Iris.csv\n"
          ]
        },
        {
          "output_type": "execute_result",
          "data": {
            "text/plain": [
              "{'Iris.csv': b'Id,SepalLengthCm,SepalWidthCm,PetalLengthCm,PetalWidthCm,Species\\n1,5.1,3.5,1.4,0.2,Iris-setosa\\n2,4.9,3.0,1.4,0.2,Iris-setosa\\n3,4.7,3.2,1.3,0.2,Iris-setosa\\n4,4.6,3.1,1.5,0.2,Iris-setosa\\n5,5.0,3.6,1.4,0.2,Iris-setosa\\n6,5.4,3.9,1.7,0.4,Iris-setosa\\n7,4.6,3.4,1.4,0.3,Iris-setosa\\n8,5.0,3.4,1.5,0.2,Iris-setosa\\n9,4.4,2.9,1.4,0.2,Iris-setosa\\n10,4.9,3.1,1.5,0.1,Iris-setosa\\n11,5.4,3.7,1.5,0.2,Iris-setosa\\n12,4.8,3.4,1.6,0.2,Iris-setosa\\n13,4.8,3.0,1.4,0.1,Iris-setosa\\n14,4.3,3.0,1.1,0.1,Iris-setosa\\n15,5.8,4.0,1.2,0.2,Iris-setosa\\n16,5.7,4.4,1.5,0.4,Iris-setosa\\n17,5.4,3.9,1.3,0.4,Iris-setosa\\n18,5.1,3.5,1.4,0.3,Iris-setosa\\n19,5.7,3.8,1.7,0.3,Iris-setosa\\n20,5.1,3.8,1.5,0.3,Iris-setosa\\n21,5.4,3.4,1.7,0.2,Iris-setosa\\n22,5.1,3.7,1.5,0.4,Iris-setosa\\n23,4.6,3.6,1.0,0.2,Iris-setosa\\n24,5.1,3.3,1.7,0.5,Iris-setosa\\n25,4.8,3.4,1.9,0.2,Iris-setosa\\n26,5.0,3.0,1.6,0.2,Iris-setosa\\n27,5.0,3.4,1.6,0.4,Iris-setosa\\n28,5.2,3.5,1.5,0.2,Iris-setosa\\n29,5.2,3.4,1.4,0.2,Iris-setosa\\n30,4.7,3.2,1.6,0.2,Iris-setosa\\n31,4.8,3.1,1.6,0.2,Iris-setosa\\n32,5.4,3.4,1.5,0.4,Iris-setosa\\n33,5.2,4.1,1.5,0.1,Iris-setosa\\n34,5.5,4.2,1.4,0.2,Iris-setosa\\n35,4.9,3.1,1.5,0.1,Iris-setosa\\n36,5.0,3.2,1.2,0.2,Iris-setosa\\n37,5.5,3.5,1.3,0.2,Iris-setosa\\n38,4.9,3.1,1.5,0.1,Iris-setosa\\n39,4.4,3.0,1.3,0.2,Iris-setosa\\n40,5.1,3.4,1.5,0.2,Iris-setosa\\n41,5.0,3.5,1.3,0.3,Iris-setosa\\n42,4.5,2.3,1.3,0.3,Iris-setosa\\n43,4.4,3.2,1.3,0.2,Iris-setosa\\n44,5.0,3.5,1.6,0.6,Iris-setosa\\n45,5.1,3.8,1.9,0.4,Iris-setosa\\n46,4.8,3.0,1.4,0.3,Iris-setosa\\n47,5.1,3.8,1.6,0.2,Iris-setosa\\n48,4.6,3.2,1.4,0.2,Iris-setosa\\n49,5.3,3.7,1.5,0.2,Iris-setosa\\n50,5.0,3.3,1.4,0.2,Iris-setosa\\n51,7.0,3.2,4.7,1.4,Iris-versicolor\\n52,6.4,3.2,4.5,1.5,Iris-versicolor\\n53,6.9,3.1,4.9,1.5,Iris-versicolor\\n54,5.5,2.3,4.0,1.3,Iris-versicolor\\n55,6.5,2.8,4.6,1.5,Iris-versicolor\\n56,5.7,2.8,4.5,1.3,Iris-versicolor\\n57,6.3,3.3,4.7,1.6,Iris-versicolor\\n58,4.9,2.4,3.3,1.0,Iris-versicolor\\n59,6.6,2.9,4.6,1.3,Iris-versicolor\\n60,5.2,2.7,3.9,1.4,Iris-versicolor\\n61,5.0,2.0,3.5,1.0,Iris-versicolor\\n62,5.9,3.0,4.2,1.5,Iris-versicolor\\n63,6.0,2.2,4.0,1.0,Iris-versicolor\\n64,6.1,2.9,4.7,1.4,Iris-versicolor\\n65,5.6,2.9,3.6,1.3,Iris-versicolor\\n66,6.7,3.1,4.4,1.4,Iris-versicolor\\n67,5.6,3.0,4.5,1.5,Iris-versicolor\\n68,5.8,2.7,4.1,1.0,Iris-versicolor\\n69,6.2,2.2,4.5,1.5,Iris-versicolor\\n70,5.6,2.5,3.9,1.1,Iris-versicolor\\n71,5.9,3.2,4.8,1.8,Iris-versicolor\\n72,6.1,2.8,4.0,1.3,Iris-versicolor\\n73,6.3,2.5,4.9,1.5,Iris-versicolor\\n74,6.1,2.8,4.7,1.2,Iris-versicolor\\n75,6.4,2.9,4.3,1.3,Iris-versicolor\\n76,6.6,3.0,4.4,1.4,Iris-versicolor\\n77,6.8,2.8,4.8,1.4,Iris-versicolor\\n78,6.7,3.0,5.0,1.7,Iris-versicolor\\n79,6.0,2.9,4.5,1.5,Iris-versicolor\\n80,5.7,2.6,3.5,1.0,Iris-versicolor\\n81,5.5,2.4,3.8,1.1,Iris-versicolor\\n82,5.5,2.4,3.7,1.0,Iris-versicolor\\n83,5.8,2.7,3.9,1.2,Iris-versicolor\\n84,6.0,2.7,5.1,1.6,Iris-versicolor\\n85,5.4,3.0,4.5,1.5,Iris-versicolor\\n86,6.0,3.4,4.5,1.6,Iris-versicolor\\n87,6.7,3.1,4.7,1.5,Iris-versicolor\\n88,6.3,2.3,4.4,1.3,Iris-versicolor\\n89,5.6,3.0,4.1,1.3,Iris-versicolor\\n90,5.5,2.5,4.0,1.3,Iris-versicolor\\n91,5.5,2.6,4.4,1.2,Iris-versicolor\\n92,6.1,3.0,4.6,1.4,Iris-versicolor\\n93,5.8,2.6,4.0,1.2,Iris-versicolor\\n94,5.0,2.3,3.3,1.0,Iris-versicolor\\n95,5.6,2.7,4.2,1.3,Iris-versicolor\\n96,5.7,3.0,4.2,1.2,Iris-versicolor\\n97,5.7,2.9,4.2,1.3,Iris-versicolor\\n98,6.2,2.9,4.3,1.3,Iris-versicolor\\n99,5.1,2.5,3.0,1.1,Iris-versicolor\\n100,5.7,2.8,4.1,1.3,Iris-versicolor\\n101,6.3,3.3,6.0,2.5,Iris-virginica\\n102,5.8,2.7,5.1,1.9,Iris-virginica\\n103,7.1,3.0,5.9,2.1,Iris-virginica\\n104,6.3,2.9,5.6,1.8,Iris-virginica\\n105,6.5,3.0,5.8,2.2,Iris-virginica\\n106,7.6,3.0,6.6,2.1,Iris-virginica\\n107,4.9,2.5,4.5,1.7,Iris-virginica\\n108,7.3,2.9,6.3,1.8,Iris-virginica\\n109,6.7,2.5,5.8,1.8,Iris-virginica\\n110,7.2,3.6,6.1,2.5,Iris-virginica\\n111,6.5,3.2,5.1,2.0,Iris-virginica\\n112,6.4,2.7,5.3,1.9,Iris-virginica\\n113,6.8,3.0,5.5,2.1,Iris-virginica\\n114,5.7,2.5,5.0,2.0,Iris-virginica\\n115,5.8,2.8,5.1,2.4,Iris-virginica\\n116,6.4,3.2,5.3,2.3,Iris-virginica\\n117,6.5,3.0,5.5,1.8,Iris-virginica\\n118,7.7,3.8,6.7,2.2,Iris-virginica\\n119,7.7,2.6,6.9,2.3,Iris-virginica\\n120,6.0,2.2,5.0,1.5,Iris-virginica\\n121,6.9,3.2,5.7,2.3,Iris-virginica\\n122,5.6,2.8,4.9,2.0,Iris-virginica\\n123,7.7,2.8,6.7,2.0,Iris-virginica\\n124,6.3,2.7,4.9,1.8,Iris-virginica\\n125,6.7,3.3,5.7,2.1,Iris-virginica\\n126,7.2,3.2,6.0,1.8,Iris-virginica\\n127,6.2,2.8,4.8,1.8,Iris-virginica\\n128,6.1,3.0,4.9,1.8,Iris-virginica\\n129,6.4,2.8,5.6,2.1,Iris-virginica\\n130,7.2,3.0,5.8,1.6,Iris-virginica\\n131,7.4,2.8,6.1,1.9,Iris-virginica\\n132,7.9,3.8,6.4,2.0,Iris-virginica\\n133,6.4,2.8,5.6,2.2,Iris-virginica\\n134,6.3,2.8,5.1,1.5,Iris-virginica\\n135,6.1,2.6,5.6,1.4,Iris-virginica\\n136,7.7,3.0,6.1,2.3,Iris-virginica\\n137,6.3,3.4,5.6,2.4,Iris-virginica\\n138,6.4,3.1,5.5,1.8,Iris-virginica\\n139,6.0,3.0,4.8,1.8,Iris-virginica\\n140,6.9,3.1,5.4,2.1,Iris-virginica\\n141,6.7,3.1,5.6,2.4,Iris-virginica\\n142,6.9,3.1,5.1,2.3,Iris-virginica\\n143,5.8,2.7,5.1,1.9,Iris-virginica\\n144,6.8,3.2,5.9,2.3,Iris-virginica\\n145,6.7,3.3,5.7,2.5,Iris-virginica\\n146,6.7,3.0,5.2,2.3,Iris-virginica\\n147,6.3,2.5,5.0,1.9,Iris-virginica\\n148,6.5,3.0,5.2,2.0,Iris-virginica\\n149,6.2,3.4,5.4,2.3,Iris-virginica\\n150,5.9,3.0,5.1,1.8,Iris-virginica\\n'}"
            ]
          },
          "metadata": {},
          "execution_count": 7
        }
      ]
    },
    {
      "cell_type": "markdown",
      "source": [
        "## Reading Dataset"
      ],
      "metadata": {
        "id": "BauZzAKhmP9s"
      }
    },
    {
      "cell_type": "code",
      "source": [
        "#Loading the Student_Grades_Data.csv file, uploaded in previous step\n",
        "data = spark.read.csv('Iris.csv', header=True, inferSchema=True)"
      ],
      "metadata": {
        "id": "HdTwUjI-Caar"
      },
      "execution_count": 19,
      "outputs": []
    },
    {
      "cell_type": "code",
      "source": [
        "data.printSchema()"
      ],
      "metadata": {
        "colab": {
          "base_uri": "https://localhost:8080/"
        },
        "id": "mnAX9LW0Cx_w",
        "outputId": "76a1a2f5-96e0-4135-cb42-a07d4065c0b2"
      },
      "execution_count": 20,
      "outputs": [
        {
          "output_type": "stream",
          "name": "stdout",
          "text": [
            "root\n",
            " |-- Id: integer (nullable = true)\n",
            " |-- SepalLengthCm: double (nullable = true)\n",
            " |-- SepalWidthCm: double (nullable = true)\n",
            " |-- PetalLengthCm: double (nullable = true)\n",
            " |-- PetalWidthCm: double (nullable = true)\n",
            " |-- Species: string (nullable = true)\n",
            "\n"
          ]
        }
      ]
    },
    {
      "cell_type": "code",
      "source": [
        "#Display first few rows of data\n",
        "data.show()"
      ],
      "metadata": {
        "colab": {
          "base_uri": "https://localhost:8080/"
        },
        "id": "G1VgnFeiC3m8",
        "outputId": "ebb39770-20ad-48cf-a0ad-49342991204a"
      },
      "execution_count": 21,
      "outputs": [
        {
          "output_type": "stream",
          "name": "stdout",
          "text": [
            "+---+-------------+------------+-------------+------------+-----------+\n",
            "| Id|SepalLengthCm|SepalWidthCm|PetalLengthCm|PetalWidthCm|    Species|\n",
            "+---+-------------+------------+-------------+------------+-----------+\n",
            "|  1|          5.1|         3.5|          1.4|         0.2|Iris-setosa|\n",
            "|  2|          4.9|         3.0|          1.4|         0.2|Iris-setosa|\n",
            "|  3|          4.7|         3.2|          1.3|         0.2|Iris-setosa|\n",
            "|  4|          4.6|         3.1|          1.5|         0.2|Iris-setosa|\n",
            "|  5|          5.0|         3.6|          1.4|         0.2|Iris-setosa|\n",
            "|  6|          5.4|         3.9|          1.7|         0.4|Iris-setosa|\n",
            "|  7|          4.6|         3.4|          1.4|         0.3|Iris-setosa|\n",
            "|  8|          5.0|         3.4|          1.5|         0.2|Iris-setosa|\n",
            "|  9|          4.4|         2.9|          1.4|         0.2|Iris-setosa|\n",
            "| 10|          4.9|         3.1|          1.5|         0.1|Iris-setosa|\n",
            "| 11|          5.4|         3.7|          1.5|         0.2|Iris-setosa|\n",
            "| 12|          4.8|         3.4|          1.6|         0.2|Iris-setosa|\n",
            "| 13|          4.8|         3.0|          1.4|         0.1|Iris-setosa|\n",
            "| 14|          4.3|         3.0|          1.1|         0.1|Iris-setosa|\n",
            "| 15|          5.8|         4.0|          1.2|         0.2|Iris-setosa|\n",
            "| 16|          5.7|         4.4|          1.5|         0.4|Iris-setosa|\n",
            "| 17|          5.4|         3.9|          1.3|         0.4|Iris-setosa|\n",
            "| 18|          5.1|         3.5|          1.4|         0.3|Iris-setosa|\n",
            "| 19|          5.7|         3.8|          1.7|         0.3|Iris-setosa|\n",
            "| 20|          5.1|         3.8|          1.5|         0.3|Iris-setosa|\n",
            "+---+-------------+------------+-------------+------------+-----------+\n",
            "only showing top 20 rows\n",
            "\n"
          ]
        }
      ]
    },
    {
      "cell_type": "code",
      "source": [
        "# Encode the label column (species) into numeric format\n",
        "from pyspark.ml.feature import StringIndexer\n",
        "label_indexer = StringIndexer(inputCol=\"Species\", outputCol=\"label\")\n",
        "data = label_indexer.fit(data).transform(data)"
      ],
      "metadata": {
        "id": "Pe30zp4SlIAo"
      },
      "execution_count": 22,
      "outputs": []
    },
    {
      "cell_type": "code",
      "source": [
        "data = data.drop('Species', 'Id')\n",
        "data.show()"
      ],
      "metadata": {
        "id": "nnIQUdJQld7U",
        "outputId": "321eb8e2-8f86-4509-e495-c1c10200fd6a",
        "colab": {
          "base_uri": "https://localhost:8080/"
        }
      },
      "execution_count": 23,
      "outputs": [
        {
          "output_type": "stream",
          "name": "stdout",
          "text": [
            "+-------------+------------+-------------+------------+-----+\n",
            "|SepalLengthCm|SepalWidthCm|PetalLengthCm|PetalWidthCm|label|\n",
            "+-------------+------------+-------------+------------+-----+\n",
            "|          5.1|         3.5|          1.4|         0.2|  0.0|\n",
            "|          4.9|         3.0|          1.4|         0.2|  0.0|\n",
            "|          4.7|         3.2|          1.3|         0.2|  0.0|\n",
            "|          4.6|         3.1|          1.5|         0.2|  0.0|\n",
            "|          5.0|         3.6|          1.4|         0.2|  0.0|\n",
            "|          5.4|         3.9|          1.7|         0.4|  0.0|\n",
            "|          4.6|         3.4|          1.4|         0.3|  0.0|\n",
            "|          5.0|         3.4|          1.5|         0.2|  0.0|\n",
            "|          4.4|         2.9|          1.4|         0.2|  0.0|\n",
            "|          4.9|         3.1|          1.5|         0.1|  0.0|\n",
            "|          5.4|         3.7|          1.5|         0.2|  0.0|\n",
            "|          4.8|         3.4|          1.6|         0.2|  0.0|\n",
            "|          4.8|         3.0|          1.4|         0.1|  0.0|\n",
            "|          4.3|         3.0|          1.1|         0.1|  0.0|\n",
            "|          5.8|         4.0|          1.2|         0.2|  0.0|\n",
            "|          5.7|         4.4|          1.5|         0.4|  0.0|\n",
            "|          5.4|         3.9|          1.3|         0.4|  0.0|\n",
            "|          5.1|         3.5|          1.4|         0.3|  0.0|\n",
            "|          5.7|         3.8|          1.7|         0.3|  0.0|\n",
            "|          5.1|         3.8|          1.5|         0.3|  0.0|\n",
            "+-------------+------------+-------------+------------+-----+\n",
            "only showing top 20 rows\n",
            "\n"
          ]
        }
      ]
    },
    {
      "cell_type": "markdown",
      "source": [
        "## Implementing Linear regression using Spark MLLib library"
      ],
      "metadata": {
        "id": "N5GXv8vvqJyI"
      }
    },
    {
      "cell_type": "code",
      "source": [
        "#Create a Feature array by omitting the last column\n",
        "feature_cols = data.columns[:-1]\n",
        "from pyspark.ml.feature import VectorAssembler\n",
        "vect_assembler = VectorAssembler(inputCols=feature_cols,outputCol=\"features\")"
      ],
      "metadata": {
        "id": "l3c80X95mV-2"
      },
      "execution_count": 24,
      "outputs": []
    },
    {
      "cell_type": "code",
      "source": [
        "#Utilize Assembler created above in order to add the feature column\n",
        "data_w_features = vect_assembler.transform(data)"
      ],
      "metadata": {
        "id": "YV18J7MomcK1"
      },
      "execution_count": 25,
      "outputs": []
    },
    {
      "cell_type": "code",
      "source": [
        "\n",
        "#Display the data having additional column named features. Had it been multiple linear regression problem, you could see all the\n",
        "# independent variable values combined in one list\n",
        "data_w_features.show()"
      ],
      "metadata": {
        "colab": {
          "base_uri": "https://localhost:8080/"
        },
        "id": "dG_UQRtAnuBU",
        "outputId": "2ed945ad-5f53-4c0e-b08f-59dadbd5d9ab"
      },
      "execution_count": 26,
      "outputs": [
        {
          "output_type": "stream",
          "name": "stdout",
          "text": [
            "+-------------+------------+-------------+------------+-----+-----------------+\n",
            "|SepalLengthCm|SepalWidthCm|PetalLengthCm|PetalWidthCm|label|         features|\n",
            "+-------------+------------+-------------+------------+-----+-----------------+\n",
            "|          5.1|         3.5|          1.4|         0.2|  0.0|[5.1,3.5,1.4,0.2]|\n",
            "|          4.9|         3.0|          1.4|         0.2|  0.0|[4.9,3.0,1.4,0.2]|\n",
            "|          4.7|         3.2|          1.3|         0.2|  0.0|[4.7,3.2,1.3,0.2]|\n",
            "|          4.6|         3.1|          1.5|         0.2|  0.0|[4.6,3.1,1.5,0.2]|\n",
            "|          5.0|         3.6|          1.4|         0.2|  0.0|[5.0,3.6,1.4,0.2]|\n",
            "|          5.4|         3.9|          1.7|         0.4|  0.0|[5.4,3.9,1.7,0.4]|\n",
            "|          4.6|         3.4|          1.4|         0.3|  0.0|[4.6,3.4,1.4,0.3]|\n",
            "|          5.0|         3.4|          1.5|         0.2|  0.0|[5.0,3.4,1.5,0.2]|\n",
            "|          4.4|         2.9|          1.4|         0.2|  0.0|[4.4,2.9,1.4,0.2]|\n",
            "|          4.9|         3.1|          1.5|         0.1|  0.0|[4.9,3.1,1.5,0.1]|\n",
            "|          5.4|         3.7|          1.5|         0.2|  0.0|[5.4,3.7,1.5,0.2]|\n",
            "|          4.8|         3.4|          1.6|         0.2|  0.0|[4.8,3.4,1.6,0.2]|\n",
            "|          4.8|         3.0|          1.4|         0.1|  0.0|[4.8,3.0,1.4,0.1]|\n",
            "|          4.3|         3.0|          1.1|         0.1|  0.0|[4.3,3.0,1.1,0.1]|\n",
            "|          5.8|         4.0|          1.2|         0.2|  0.0|[5.8,4.0,1.2,0.2]|\n",
            "|          5.7|         4.4|          1.5|         0.4|  0.0|[5.7,4.4,1.5,0.4]|\n",
            "|          5.4|         3.9|          1.3|         0.4|  0.0|[5.4,3.9,1.3,0.4]|\n",
            "|          5.1|         3.5|          1.4|         0.3|  0.0|[5.1,3.5,1.4,0.3]|\n",
            "|          5.7|         3.8|          1.7|         0.3|  0.0|[5.7,3.8,1.7,0.3]|\n",
            "|          5.1|         3.8|          1.5|         0.3|  0.0|[5.1,3.8,1.5,0.3]|\n",
            "+-------------+------------+-------------+------------+-----+-----------------+\n",
            "only showing top 20 rows\n",
            "\n"
          ]
        }
      ]
    },
    {
      "cell_type": "code",
      "source": [
        "#Select only Features and Label from previous dataset as we need these two entities for building machine learning model\n",
        "finalized_data = data_w_features.select(\"features\",\"label\")\n",
        "\n",
        "finalized_data.show()"
      ],
      "metadata": {
        "colab": {
          "base_uri": "https://localhost:8080/"
        },
        "id": "1wQqGIZFnwTh",
        "outputId": "ef20bdfb-3d06-4384-e165-c9980be7d088"
      },
      "execution_count": 27,
      "outputs": [
        {
          "output_type": "stream",
          "name": "stdout",
          "text": [
            "+-----------------+-----+\n",
            "|         features|label|\n",
            "+-----------------+-----+\n",
            "|[5.1,3.5,1.4,0.2]|  0.0|\n",
            "|[4.9,3.0,1.4,0.2]|  0.0|\n",
            "|[4.7,3.2,1.3,0.2]|  0.0|\n",
            "|[4.6,3.1,1.5,0.2]|  0.0|\n",
            "|[5.0,3.6,1.4,0.2]|  0.0|\n",
            "|[5.4,3.9,1.7,0.4]|  0.0|\n",
            "|[4.6,3.4,1.4,0.3]|  0.0|\n",
            "|[5.0,3.4,1.5,0.2]|  0.0|\n",
            "|[4.4,2.9,1.4,0.2]|  0.0|\n",
            "|[4.9,3.1,1.5,0.1]|  0.0|\n",
            "|[5.4,3.7,1.5,0.2]|  0.0|\n",
            "|[4.8,3.4,1.6,0.2]|  0.0|\n",
            "|[4.8,3.0,1.4,0.1]|  0.0|\n",
            "|[4.3,3.0,1.1,0.1]|  0.0|\n",
            "|[5.8,4.0,1.2,0.2]|  0.0|\n",
            "|[5.7,4.4,1.5,0.4]|  0.0|\n",
            "|[5.4,3.9,1.3,0.4]|  0.0|\n",
            "|[5.1,3.5,1.4,0.3]|  0.0|\n",
            "|[5.7,3.8,1.7,0.3]|  0.0|\n",
            "|[5.1,3.8,1.5,0.3]|  0.0|\n",
            "+-----------------+-----+\n",
            "only showing top 20 rows\n",
            "\n"
          ]
        }
      ]
    },
    {
      "cell_type": "code",
      "source": [
        "#Split the data into training and test model with 70% obs. going in training and 30% in testing\n",
        "train_dataset, test_dataset = finalized_data.randomSplit([0.7, 0.3])"
      ],
      "metadata": {
        "id": "XAo650Ofn1z0"
      },
      "execution_count": 28,
      "outputs": []
    },
    {
      "cell_type": "code",
      "source": [
        "#Import Linear Regression class called LinearRegression\n",
        "from pyspark.ml.classification  import DecisionTreeClassifier\n",
        "\n",
        "#Create the Linear Regression object named having feature column as features and Label column as Time_to_Study\n",
        "Deccla = DecisionTreeClassifier(featuresCol=\"features\", labelCol=\"label\")\n",
        "\n",
        "#Train the model on the training using fit() method.\n",
        "model = Deccla.fit(train_dataset)"
      ],
      "metadata": {
        "id": "5JxKAgQ4oT9K"
      },
      "execution_count": 30,
      "outputs": []
    },
    {
      "cell_type": "code",
      "source": [
        "#Predict the Grades using the evulate method\n",
        "pred = model.transform(test_dataset)\n",
        "\n",
        "# Show the predicted labels alongside actual labels\n",
        "pred.select(\"label\", \"prediction\", \"features\").show()"
      ],
      "metadata": {
        "colab": {
          "base_uri": "https://localhost:8080/"
        },
        "id": "-yyJVzWKowmB",
        "outputId": "b9ab932a-b54b-4404-b0e0-6608c89f086a"
      },
      "execution_count": 31,
      "outputs": [
        {
          "output_type": "stream",
          "name": "stdout",
          "text": [
            "+-----+----------+-----------------+\n",
            "|label|prediction|         features|\n",
            "+-----+----------+-----------------+\n",
            "|  0.0|       0.0|[4.4,2.9,1.4,0.2]|\n",
            "|  0.0|       0.0|[4.4,3.0,1.3,0.2]|\n",
            "|  0.0|       0.0|[4.6,3.1,1.5,0.2]|\n",
            "|  0.0|       0.0|[4.6,3.4,1.4,0.3]|\n",
            "|  0.0|       0.0|[4.7,3.2,1.3,0.2]|\n",
            "|  0.0|       0.0|[4.7,3.2,1.6,0.2]|\n",
            "|  1.0|       1.0|[4.9,2.4,3.3,1.0]|\n",
            "|  0.0|       0.0|[5.0,3.4,1.6,0.4]|\n",
            "|  0.0|       0.0|[5.1,3.8,1.6,0.2]|\n",
            "|  1.0|       1.0|[5.2,2.7,3.9,1.4]|\n",
            "|  0.0|       0.0|[5.2,3.4,1.4,0.2]|\n",
            "|  1.0|       1.0|[5.4,3.0,4.5,1.5]|\n",
            "|  0.0|       0.0|[5.4,3.4,1.7,0.2]|\n",
            "|  0.0|       0.0|[5.4,3.9,1.7,0.4]|\n",
            "|  1.0|       1.0|[5.5,2.4,3.8,1.1]|\n",
            "|  1.0|       1.0|[5.5,2.5,4.0,1.3]|\n",
            "|  0.0|       0.0|[5.5,3.5,1.3,0.2]|\n",
            "|  1.0|       1.0|[5.7,2.8,4.1,1.3]|\n",
            "|  1.0|       1.0|[5.7,3.0,4.2,1.2]|\n",
            "|  0.0|       0.0|[5.7,4.4,1.5,0.4]|\n",
            "+-----+----------+-----------------+\n",
            "only showing top 20 rows\n",
            "\n"
          ]
        }
      ]
    },
    {
      "cell_type": "code",
      "source": [
        "from pyspark.ml.evaluation import MulticlassClassificationEvaluator\n",
        "\n",
        "# Evaluate the model using metrics like Accuracy, Precision, Recall, etc.\n",
        "evaluator = MulticlassClassificationEvaluator(labelCol=\"label\", predictionCol=\"prediction\")\n",
        "\n",
        "# Accuracy\n",
        "accuracy = evaluator.evaluate(pred, {evaluator.metricName: \"accuracy\"})\n",
        "print(\"Accuracy: %.3f\" % accuracy)\n",
        "\n",
        "# Precision\n",
        "precision = evaluator.evaluate(pred, {evaluator.metricName: \"weightedPrecision\"})\n",
        "print(\"Precision: %.3f\" % precision)\n",
        "\n",
        "# Recall\n",
        "recall = evaluator.evaluate(pred, {evaluator.metricName: \"weightedRecall\"})\n",
        "print(\"Recall: %.3f\" % recall)\n",
        "\n",
        "# F1 Score\n",
        "f1 = evaluator.evaluate(pred, {evaluator.metricName: \"f1\"})\n",
        "print(\"F1 Score: %.3f\" % f1)\n",
        "\n",
        "\"\"\"## Summary\"\"\"\n",
        "\n",
        "# Display the Decision Tree structure\n",
        "print(\"Learned Decision Tree Model:\\n\", model.toDebugString)"
      ],
      "metadata": {
        "colab": {
          "base_uri": "https://localhost:8080/"
        },
        "id": "QRjO4HaXpQiQ",
        "outputId": "c7162c58-49e5-4a84-e194-612acd8042a6"
      },
      "execution_count": 33,
      "outputs": [
        {
          "output_type": "stream",
          "name": "stdout",
          "text": [
            "Accuracy: 0.952\n",
            "Precision: 0.952\n",
            "Recall: 0.952\n",
            "F1 Score: 0.952\n",
            "Learned Decision Tree Model:\n",
            " DecisionTreeClassificationModel: uid=DecisionTreeClassifier_4f76dcca8412, depth=4, numNodes=13, numClasses=3, numFeatures=4\n",
            "  If (feature 2 <= 2.45)\n",
            "   Predict: 0.0\n",
            "  Else (feature 2 > 2.45)\n",
            "   If (feature 3 <= 1.65)\n",
            "    If (feature 2 <= 4.95)\n",
            "     Predict: 1.0\n",
            "    Else (feature 2 > 4.95)\n",
            "     If (feature 0 <= 6.05)\n",
            "      Predict: 1.0\n",
            "     Else (feature 0 > 6.05)\n",
            "      Predict: 2.0\n",
            "   Else (feature 3 > 1.65)\n",
            "    If (feature 2 <= 4.85)\n",
            "     If (feature 1 <= 3.05)\n",
            "      Predict: 2.0\n",
            "     Else (feature 1 > 3.05)\n",
            "      Predict: 1.0\n",
            "    Else (feature 2 > 4.85)\n",
            "     Predict: 2.0\n",
            "\n"
          ]
        }
      ]
    }
  ]
}