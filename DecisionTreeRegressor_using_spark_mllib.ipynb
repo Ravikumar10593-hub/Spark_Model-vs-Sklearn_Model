{
  "nbformat": 4,
  "nbformat_minor": 0,
  "metadata": {
    "colab": {
      "provenance": []
    },
    "kernelspec": {
      "name": "python3",
      "display_name": "Python 3"
    },
    "language_info": {
      "name": "python"
    }
  },
  "cells": [
    {
      "cell_type": "markdown",
      "source": [
        "## Setting up Colab"
      ],
      "metadata": {
        "id": "FUjrlT1YmIg2"
      }
    },
    {
      "cell_type": "code",
      "source": [
        "# innstall java\n",
        "!apt-get install openjdk-8-jdk-headless -qq > /dev/null\n",
        "\n",
        "# install spark (change the version number if needed)\n",
        "!wget -q https://archive.apache.org/dist/spark/spark-3.0.0/spark-3.0.0-bin-hadoop3.2.tgz\n",
        "\n",
        "# unzip the spark file to the current folder\n",
        "!tar xf spark-3.0.0-bin-hadoop3.2.tgz\n",
        "\n",
        "# set your spark folder to your system path environment.\n",
        "import os\n",
        "os.environ[\"JAVA_HOME\"] = \"/usr/lib/jvm/java-8-openjdk-amd64\"\n",
        "os.environ[\"SPARK_HOME\"] = \"/content/spark-3.0.0-bin-hadoop3.2\"\n",
        "\n",
        "\n",
        "# install findspark using pip\n",
        "!pip install -q findspark"
      ],
      "metadata": {
        "id": "ldYco2Ez3Vhc"
      },
      "execution_count": 1,
      "outputs": []
    },
    {
      "cell_type": "code",
      "source": [
        "import findspark\n",
        "findspark.init()"
      ],
      "metadata": {
        "id": "--JUQlKACD3k"
      },
      "execution_count": 2,
      "outputs": []
    },
    {
      "cell_type": "code",
      "source": [
        "# Create a PySpark session\n",
        "from collections.abc import MutableMapping\n",
        "from pyspark.sql import SparkSession\n",
        "spark = SparkSession.builder.master(\"local[*]\").getOrCreate()\n",
        "\n",
        "# !wget http://raw-recipes-clean-upgrad.s3.amazonaws.com/RAW_recipes_cleaned.csv\n",
        "\n",
        "# df = spark.read.csv('RAW_recipes_cleaned.csv', inferSchema = True, header = True)\n",
        "# df.show()"
      ],
      "metadata": {
        "id": "ItJ9rJqd8eza"
      },
      "execution_count": 3,
      "outputs": []
    },
    {
      "cell_type": "code",
      "source": [
        "#Upload Student_Grades_Data.csv file from local system to remote colab location\n",
        "from google.colab import files\n",
        "files.upload()"
      ],
      "metadata": {
        "id": "fq7pKetg2-S8",
        "colab": {
          "base_uri": "https://localhost:8080/",
          "height": 130
        },
        "outputId": "1b8ca3a7-8687-43cb-b6c1-6e5960c8e026"
      },
      "execution_count": 4,
      "outputs": [
        {
          "output_type": "display_data",
          "data": {
            "text/plain": [
              "<IPython.core.display.HTML object>"
            ],
            "text/html": [
              "\n",
              "     <input type=\"file\" id=\"files-d4f17cbe-254b-41ea-86fd-2f0296a2cc19\" name=\"files[]\" multiple disabled\n",
              "        style=\"border:none\" />\n",
              "     <output id=\"result-d4f17cbe-254b-41ea-86fd-2f0296a2cc19\">\n",
              "      Upload widget is only available when the cell has been executed in the\n",
              "      current browser session. Please rerun this cell to enable.\n",
              "      </output>\n",
              "      <script>// Copyright 2017 Google LLC\n",
              "//\n",
              "// Licensed under the Apache License, Version 2.0 (the \"License\");\n",
              "// you may not use this file except in compliance with the License.\n",
              "// You may obtain a copy of the License at\n",
              "//\n",
              "//      http://www.apache.org/licenses/LICENSE-2.0\n",
              "//\n",
              "// Unless required by applicable law or agreed to in writing, software\n",
              "// distributed under the License is distributed on an \"AS IS\" BASIS,\n",
              "// WITHOUT WARRANTIES OR CONDITIONS OF ANY KIND, either express or implied.\n",
              "// See the License for the specific language governing permissions and\n",
              "// limitations under the License.\n",
              "\n",
              "/**\n",
              " * @fileoverview Helpers for google.colab Python module.\n",
              " */\n",
              "(function(scope) {\n",
              "function span(text, styleAttributes = {}) {\n",
              "  const element = document.createElement('span');\n",
              "  element.textContent = text;\n",
              "  for (const key of Object.keys(styleAttributes)) {\n",
              "    element.style[key] = styleAttributes[key];\n",
              "  }\n",
              "  return element;\n",
              "}\n",
              "\n",
              "// Max number of bytes which will be uploaded at a time.\n",
              "const MAX_PAYLOAD_SIZE = 100 * 1024;\n",
              "\n",
              "function _uploadFiles(inputId, outputId) {\n",
              "  const steps = uploadFilesStep(inputId, outputId);\n",
              "  const outputElement = document.getElementById(outputId);\n",
              "  // Cache steps on the outputElement to make it available for the next call\n",
              "  // to uploadFilesContinue from Python.\n",
              "  outputElement.steps = steps;\n",
              "\n",
              "  return _uploadFilesContinue(outputId);\n",
              "}\n",
              "\n",
              "// This is roughly an async generator (not supported in the browser yet),\n",
              "// where there are multiple asynchronous steps and the Python side is going\n",
              "// to poll for completion of each step.\n",
              "// This uses a Promise to block the python side on completion of each step,\n",
              "// then passes the result of the previous step as the input to the next step.\n",
              "function _uploadFilesContinue(outputId) {\n",
              "  const outputElement = document.getElementById(outputId);\n",
              "  const steps = outputElement.steps;\n",
              "\n",
              "  const next = steps.next(outputElement.lastPromiseValue);\n",
              "  return Promise.resolve(next.value.promise).then((value) => {\n",
              "    // Cache the last promise value to make it available to the next\n",
              "    // step of the generator.\n",
              "    outputElement.lastPromiseValue = value;\n",
              "    return next.value.response;\n",
              "  });\n",
              "}\n",
              "\n",
              "/**\n",
              " * Generator function which is called between each async step of the upload\n",
              " * process.\n",
              " * @param {string} inputId Element ID of the input file picker element.\n",
              " * @param {string} outputId Element ID of the output display.\n",
              " * @return {!Iterable<!Object>} Iterable of next steps.\n",
              " */\n",
              "function* uploadFilesStep(inputId, outputId) {\n",
              "  const inputElement = document.getElementById(inputId);\n",
              "  inputElement.disabled = false;\n",
              "\n",
              "  const outputElement = document.getElementById(outputId);\n",
              "  outputElement.innerHTML = '';\n",
              "\n",
              "  const pickedPromise = new Promise((resolve) => {\n",
              "    inputElement.addEventListener('change', (e) => {\n",
              "      resolve(e.target.files);\n",
              "    });\n",
              "  });\n",
              "\n",
              "  const cancel = document.createElement('button');\n",
              "  inputElement.parentElement.appendChild(cancel);\n",
              "  cancel.textContent = 'Cancel upload';\n",
              "  const cancelPromise = new Promise((resolve) => {\n",
              "    cancel.onclick = () => {\n",
              "      resolve(null);\n",
              "    };\n",
              "  });\n",
              "\n",
              "  // Wait for the user to pick the files.\n",
              "  const files = yield {\n",
              "    promise: Promise.race([pickedPromise, cancelPromise]),\n",
              "    response: {\n",
              "      action: 'starting',\n",
              "    }\n",
              "  };\n",
              "\n",
              "  cancel.remove();\n",
              "\n",
              "  // Disable the input element since further picks are not allowed.\n",
              "  inputElement.disabled = true;\n",
              "\n",
              "  if (!files) {\n",
              "    return {\n",
              "      response: {\n",
              "        action: 'complete',\n",
              "      }\n",
              "    };\n",
              "  }\n",
              "\n",
              "  for (const file of files) {\n",
              "    const li = document.createElement('li');\n",
              "    li.append(span(file.name, {fontWeight: 'bold'}));\n",
              "    li.append(span(\n",
              "        `(${file.type || 'n/a'}) - ${file.size} bytes, ` +\n",
              "        `last modified: ${\n",
              "            file.lastModifiedDate ? file.lastModifiedDate.toLocaleDateString() :\n",
              "                                    'n/a'} - `));\n",
              "    const percent = span('0% done');\n",
              "    li.appendChild(percent);\n",
              "\n",
              "    outputElement.appendChild(li);\n",
              "\n",
              "    const fileDataPromise = new Promise((resolve) => {\n",
              "      const reader = new FileReader();\n",
              "      reader.onload = (e) => {\n",
              "        resolve(e.target.result);\n",
              "      };\n",
              "      reader.readAsArrayBuffer(file);\n",
              "    });\n",
              "    // Wait for the data to be ready.\n",
              "    let fileData = yield {\n",
              "      promise: fileDataPromise,\n",
              "      response: {\n",
              "        action: 'continue',\n",
              "      }\n",
              "    };\n",
              "\n",
              "    // Use a chunked sending to avoid message size limits. See b/62115660.\n",
              "    let position = 0;\n",
              "    do {\n",
              "      const length = Math.min(fileData.byteLength - position, MAX_PAYLOAD_SIZE);\n",
              "      const chunk = new Uint8Array(fileData, position, length);\n",
              "      position += length;\n",
              "\n",
              "      const base64 = btoa(String.fromCharCode.apply(null, chunk));\n",
              "      yield {\n",
              "        response: {\n",
              "          action: 'append',\n",
              "          file: file.name,\n",
              "          data: base64,\n",
              "        },\n",
              "      };\n",
              "\n",
              "      let percentDone = fileData.byteLength === 0 ?\n",
              "          100 :\n",
              "          Math.round((position / fileData.byteLength) * 100);\n",
              "      percent.textContent = `${percentDone}% done`;\n",
              "\n",
              "    } while (position < fileData.byteLength);\n",
              "  }\n",
              "\n",
              "  // All done.\n",
              "  yield {\n",
              "    response: {\n",
              "      action: 'complete',\n",
              "    }\n",
              "  };\n",
              "}\n",
              "\n",
              "scope.google = scope.google || {};\n",
              "scope.google.colab = scope.google.colab || {};\n",
              "scope.google.colab._files = {\n",
              "  _uploadFiles,\n",
              "  _uploadFilesContinue,\n",
              "};\n",
              "})(self);\n",
              "</script> "
            ]
          },
          "metadata": {}
        },
        {
          "output_type": "stream",
          "name": "stdout",
          "text": [
            "Saving Student_Grades_Data.csv to Student_Grades_Data.csv\n"
          ]
        },
        {
          "output_type": "execute_result",
          "data": {
            "text/plain": [
              "{'Student_Grades_Data.csv': b'Time_to_Study,Grades\\n1,1.5\\n5,2.7\\n7,3.1\\n3,2.1\\n2,1.8\\n9,3.9\\n6,2.9\\n12,4.5\\n11,4.3\\n2,1.8\\n4,2.4\\n8,3.5\\n13,4.8\\n9,3.9\\n14,5\\n10,4.1\\n6,2.9\\n12,4.5\\n1,1.5\\n4,2.4\\n14,5\\n10,4.1\\n11,4.3\\n4,2.4\\n5,2.7\\n8,3.5\\n1,1.5\\n2,1.8\\n3,2.1\\n7,3.1\\n8,3.5\\n14,5\\n7,3.1\\n8,3.5\\n1,1.5\\n2,1.8\\n3,2.1\\n4,2.4\\n5,2.7\\n6,2.9\\n7,3.1\\n8,3.5\\n9,3.9\\n10,4.1\\n11,4.3\\n12,4.5\\n13,4.8\\n14,5\\n8,3.5\\n2,1.8\\n'}"
            ]
          },
          "metadata": {},
          "execution_count": 4
        }
      ]
    },
    {
      "cell_type": "markdown",
      "source": [
        "## Reading Dataset"
      ],
      "metadata": {
        "id": "BauZzAKhmP9s"
      }
    },
    {
      "cell_type": "code",
      "source": [
        "#Loading the Student_Grades_Data.csv file, uploaded in previous step\n",
        "data = spark.read.csv('Student_Grades_Data.csv', header=True, inferSchema=True)"
      ],
      "metadata": {
        "id": "HdTwUjI-Caar"
      },
      "execution_count": 5,
      "outputs": []
    },
    {
      "cell_type": "code",
      "source": [
        "data.printSchema()"
      ],
      "metadata": {
        "colab": {
          "base_uri": "https://localhost:8080/"
        },
        "id": "mnAX9LW0Cx_w",
        "outputId": "d89dd11e-00f2-4bb6-efaf-1ede7fd1d1bd"
      },
      "execution_count": 6,
      "outputs": [
        {
          "output_type": "stream",
          "name": "stdout",
          "text": [
            "root\n",
            " |-- Time_to_Study: integer (nullable = true)\n",
            " |-- Grades: double (nullable = true)\n",
            "\n"
          ]
        }
      ]
    },
    {
      "cell_type": "code",
      "source": [
        "#Display first few rows of data\n",
        "data.show()"
      ],
      "metadata": {
        "colab": {
          "base_uri": "https://localhost:8080/"
        },
        "id": "G1VgnFeiC3m8",
        "outputId": "6720432c-6be1-47d2-88ce-5a2df65c0c1c"
      },
      "execution_count": 7,
      "outputs": [
        {
          "output_type": "stream",
          "name": "stdout",
          "text": [
            "+-------------+------+\n",
            "|Time_to_Study|Grades|\n",
            "+-------------+------+\n",
            "|            1|   1.5|\n",
            "|            5|   2.7|\n",
            "|            7|   3.1|\n",
            "|            3|   2.1|\n",
            "|            2|   1.8|\n",
            "|            9|   3.9|\n",
            "|            6|   2.9|\n",
            "|           12|   4.5|\n",
            "|           11|   4.3|\n",
            "|            2|   1.8|\n",
            "|            4|   2.4|\n",
            "|            8|   3.5|\n",
            "|           13|   4.8|\n",
            "|            9|   3.9|\n",
            "|           14|   5.0|\n",
            "|           10|   4.1|\n",
            "|            6|   2.9|\n",
            "|           12|   4.5|\n",
            "|            1|   1.5|\n",
            "|            4|   2.4|\n",
            "+-------------+------+\n",
            "only showing top 20 rows\n",
            "\n"
          ]
        }
      ]
    },
    {
      "cell_type": "markdown",
      "source": [
        "## Implementing Linear regression using Spark MLLib library"
      ],
      "metadata": {
        "id": "N5GXv8vvqJyI"
      }
    },
    {
      "cell_type": "code",
      "source": [
        "#Create a Feature array by omitting the last column\n",
        "feature_cols = data.columns[:-1]\n",
        "from pyspark.ml.feature import VectorAssembler\n",
        "vect_assembler = VectorAssembler(inputCols=feature_cols,outputCol=\"features\")"
      ],
      "metadata": {
        "id": "l3c80X95mV-2"
      },
      "execution_count": 8,
      "outputs": []
    },
    {
      "cell_type": "code",
      "source": [
        "#Utilize Assembler created above in order to add the feature column\n",
        "data_w_features = vect_assembler.transform(data)"
      ],
      "metadata": {
        "id": "YV18J7MomcK1"
      },
      "execution_count": 9,
      "outputs": []
    },
    {
      "cell_type": "code",
      "source": [
        "\n",
        "#Display the data having additional column named features. Had it been multiple linear regression problem, you could see all the\n",
        "# independent variable values combined in one list\n",
        "data_w_features.show()"
      ],
      "metadata": {
        "colab": {
          "base_uri": "https://localhost:8080/"
        },
        "id": "dG_UQRtAnuBU",
        "outputId": "664323f8-708a-4de8-b318-7321a283dfcd"
      },
      "execution_count": 10,
      "outputs": [
        {
          "output_type": "stream",
          "name": "stdout",
          "text": [
            "+-------------+------+--------+\n",
            "|Time_to_Study|Grades|features|\n",
            "+-------------+------+--------+\n",
            "|            1|   1.5|   [1.0]|\n",
            "|            5|   2.7|   [5.0]|\n",
            "|            7|   3.1|   [7.0]|\n",
            "|            3|   2.1|   [3.0]|\n",
            "|            2|   1.8|   [2.0]|\n",
            "|            9|   3.9|   [9.0]|\n",
            "|            6|   2.9|   [6.0]|\n",
            "|           12|   4.5|  [12.0]|\n",
            "|           11|   4.3|  [11.0]|\n",
            "|            2|   1.8|   [2.0]|\n",
            "|            4|   2.4|   [4.0]|\n",
            "|            8|   3.5|   [8.0]|\n",
            "|           13|   4.8|  [13.0]|\n",
            "|            9|   3.9|   [9.0]|\n",
            "|           14|   5.0|  [14.0]|\n",
            "|           10|   4.1|  [10.0]|\n",
            "|            6|   2.9|   [6.0]|\n",
            "|           12|   4.5|  [12.0]|\n",
            "|            1|   1.5|   [1.0]|\n",
            "|            4|   2.4|   [4.0]|\n",
            "+-------------+------+--------+\n",
            "only showing top 20 rows\n",
            "\n"
          ]
        }
      ]
    },
    {
      "cell_type": "code",
      "source": [
        "#Select only Features and Label from previous dataset as we need these two entities for building machine learning model\n",
        "finalized_data = data_w_features.select(\"features\",\"Grades\")\n",
        "\n",
        "finalized_data.show()"
      ],
      "metadata": {
        "colab": {
          "base_uri": "https://localhost:8080/"
        },
        "id": "1wQqGIZFnwTh",
        "outputId": "e7767f83-4255-4cb8-c2df-94b65c64dafa"
      },
      "execution_count": 11,
      "outputs": [
        {
          "output_type": "stream",
          "name": "stdout",
          "text": [
            "+--------+------+\n",
            "|features|Grades|\n",
            "+--------+------+\n",
            "|   [1.0]|   1.5|\n",
            "|   [5.0]|   2.7|\n",
            "|   [7.0]|   3.1|\n",
            "|   [3.0]|   2.1|\n",
            "|   [2.0]|   1.8|\n",
            "|   [9.0]|   3.9|\n",
            "|   [6.0]|   2.9|\n",
            "|  [12.0]|   4.5|\n",
            "|  [11.0]|   4.3|\n",
            "|   [2.0]|   1.8|\n",
            "|   [4.0]|   2.4|\n",
            "|   [8.0]|   3.5|\n",
            "|  [13.0]|   4.8|\n",
            "|   [9.0]|   3.9|\n",
            "|  [14.0]|   5.0|\n",
            "|  [10.0]|   4.1|\n",
            "|   [6.0]|   2.9|\n",
            "|  [12.0]|   4.5|\n",
            "|   [1.0]|   1.5|\n",
            "|   [4.0]|   2.4|\n",
            "+--------+------+\n",
            "only showing top 20 rows\n",
            "\n"
          ]
        }
      ]
    },
    {
      "cell_type": "code",
      "source": [
        "#Split the data into training and test model with 70% obs. going in training and 30% in testing\n",
        "train_dataset, test_dataset = finalized_data.randomSplit([0.7, 0.3])"
      ],
      "metadata": {
        "id": "XAo650Ofn1z0"
      },
      "execution_count": 12,
      "outputs": []
    },
    {
      "cell_type": "code",
      "source": [
        "#Import Linear Regression class called LinearRegression\n",
        "from pyspark.ml.regression import DecisionTreeRegressor\n",
        "\n",
        "#Create the Linear Regression object named having feature column as features and Label column as Time_to_Study\n",
        "DecReg = DecisionTreeRegressor(featuresCol=\"features\", labelCol=\"Grades\")\n",
        "\n",
        "#Train the model on the training using fit() method.\n",
        "model = DecReg.fit(train_dataset)"
      ],
      "metadata": {
        "id": "5JxKAgQ4oT9K"
      },
      "execution_count": 13,
      "outputs": []
    },
    {
      "cell_type": "code",
      "source": [
        "#Predict the Grades using the evulate method\n",
        "pred = model.transform(test_dataset)\n",
        "\n",
        "# Show the predicted Grade values alongside actual Grade values\n",
        "pred.select(\"Grades\", \"prediction\").show()"
      ],
      "metadata": {
        "colab": {
          "base_uri": "https://localhost:8080/"
        },
        "id": "-yyJVzWKowmB",
        "outputId": "1279a945-0e7f-44e8-af0f-4df99b05c5c2"
      },
      "execution_count": 16,
      "outputs": [
        {
          "output_type": "stream",
          "name": "stdout",
          "text": [
            "+------+-----------------+\n",
            "|Grades|       prediction|\n",
            "+------+-----------------+\n",
            "|   1.5|              1.5|\n",
            "|   1.5|              1.5|\n",
            "|   1.8|              1.8|\n",
            "|   2.1|              2.1|\n",
            "|   2.4|              2.4|\n",
            "|   2.9|              2.9|\n",
            "|   4.1|3.900000000000001|\n",
            "|   4.1|3.900000000000001|\n",
            "|   4.1|3.900000000000001|\n",
            "|   4.3|              4.3|\n",
            "|   4.5|4.500000000000001|\n",
            "|   5.0|5.000000000000001|\n",
            "+------+-----------------+\n",
            "\n"
          ]
        }
      ]
    },
    {
      "cell_type": "code",
      "source": [
        "# Evaluate the model using metrics like RMSE, MAE, and R-Square\n",
        "from pyspark.ml.evaluation import RegressionEvaluator\n",
        "evaluator = RegressionEvaluator(labelCol=\"Grades\", predictionCol=\"prediction\")\n",
        "\n",
        "# Root Mean Square Error\n",
        "rmse = evaluator.evaluate(pred, {evaluator.metricName: \"rmse\"})\n",
        "print(\"RMSE: %.3f\" % rmse)\n",
        "\n",
        "# Mean Square Error\n",
        "mse = evaluator.evaluate(pred, {evaluator.metricName: \"mse\"})\n",
        "print(\"MSE: %.3f\" % mse)\n",
        "\n",
        "# Mean Absolute Error\n",
        "mae = evaluator.evaluate(pred, {evaluator.metricName: \"mae\"})\n",
        "print(\"MAE: %.3f\" % mae)\n",
        "\n",
        "# r2 - Coefficient of determination\n",
        "r2 = evaluator.evaluate(pred, {evaluator.metricName: \"r2\"})\n",
        "print(\"r2: %.3f\" % r2)"
      ],
      "metadata": {
        "colab": {
          "base_uri": "https://localhost:8080/"
        },
        "id": "QRjO4HaXpQiQ",
        "outputId": "2560ed71-e59b-4bb9-8af3-909071fec7d0"
      },
      "execution_count": 20,
      "outputs": [
        {
          "output_type": "stream",
          "name": "stdout",
          "text": [
            "RMSE: 0.100\n",
            "MSE: 0.010\n",
            "MAE: 0.050\n",
            "r2: 0.993\n"
          ]
        }
      ]
    }
  ]
}